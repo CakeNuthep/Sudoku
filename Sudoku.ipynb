{
  "nbformat": 4,
  "nbformat_minor": 0,
  "metadata": {
    "colab": {
      "provenance": [],
      "authorship_tag": "ABX9TyPJ2aiS4enFFnUjJxGJPJqu",
      "include_colab_link": true
    },
    "kernelspec": {
      "name": "python3",
      "display_name": "Python 3"
    },
    "language_info": {
      "name": "python"
    }
  },
  "cells": [
    {
      "cell_type": "markdown",
      "metadata": {
        "id": "view-in-github",
        "colab_type": "text"
      },
      "source": [
        "<a href=\"https://colab.research.google.com/github/CakeNuthep/Sudoku_OCR/blob/main/Sudoku.ipynb\" target=\"_parent\"><img src=\"https://colab.research.google.com/assets/colab-badge.svg\" alt=\"Open In Colab\"/></a>"
      ]
    },
    {
      "cell_type": "code",
      "execution_count": 1,
      "metadata": {
        "colab": {
          "base_uri": "https://localhost:8080/"
        },
        "id": "e7F8_lP6FQCS",
        "outputId": "4a0602cb-b64e-4971-8766-7a888d929976"
      },
      "outputs": [
        {
          "output_type": "stream",
          "name": "stdout",
          "text": [
            "Cloning into 'Sudoku'...\n",
            "remote: Enumerating objects: 12, done.\u001b[K\n",
            "remote: Counting objects: 100% (12/12), done.\u001b[K\n",
            "remote: Compressing objects: 100% (10/10), done.\u001b[K\n",
            "remote: Total 12 (delta 0), reused 12 (delta 0), pack-reused 0\u001b[K\n",
            "Unpacking objects: 100% (12/12), 40.91 KiB | 3.15 MiB/s, done.\n"
          ]
        }
      ],
      "source": [
        "!git clone https://github.com/CakeNuthep/Sudoku.git"
      ]
    },
    {
      "cell_type": "code",
      "source": [
        "!cd /content/Sudoku/"
      ],
      "metadata": {
        "id": "PWZ9uLnuFtaX"
      },
      "execution_count": 3,
      "outputs": []
    },
    {
      "cell_type": "code",
      "source": [
        "!pip install py-sudoku"
      ],
      "metadata": {
        "colab": {
          "base_uri": "https://localhost:8080/"
        },
        "id": "2_RVxcS3PjS6",
        "outputId": "2d5718a7-d787-42de-96f1-56f0c7a499c9"
      },
      "execution_count": 29,
      "outputs": [
        {
          "output_type": "stream",
          "name": "stdout",
          "text": [
            "Looking in indexes: https://pypi.org/simple, https://us-python.pkg.dev/colab-wheels/public/simple/\n",
            "Collecting py-sudoku\n",
            "  Downloading py_sudoku-1.0.3-py3-none-any.whl (7.1 kB)\n",
            "Installing collected packages: py-sudoku\n",
            "Successfully installed py-sudoku-1.0.3\n"
          ]
        }
      ]
    },
    {
      "cell_type": "markdown",
      "source": [
        "# Train"
      ],
      "metadata": {
        "id": "oylcGZtKLVdQ"
      }
    },
    {
      "cell_type": "code",
      "source": [
        "from Sudoku_OCR.pyimagesearch.models import Sudokunet\n",
        "from tensorflow.keras.optimizers import Adam\n",
        "from tensorflow.keras.datasets import mnist\n",
        "from sklearn.preprocessing import LabelBinarizer\n",
        "from sklearn.metrics import classification_report\n",
        "import argparse\n",
        "\n",
        "# construct the argument parser and parse the arguments\n",
        "# ap = argparse.ArgumentParser()\n",
        "# ap.add_argument(\"-m\", \"--model\", required=True,\n",
        "# \thelp=\"path to output model after training\")\n",
        "# args = vars(ap.parse_args())\n",
        "\n",
        "# initialize the initial learning rate, number of epochs to train\n",
        "# for, and batch size\n",
        "INIT_LR = 1e-3\n",
        "EPOCHS = 10\n",
        "BS = 128\n",
        "\n",
        "# grab the MNIST dataset\n",
        "print(\"[INFO] accessing MNIST...\")\n",
        "((trainData, trainLabels), (testData, testLabels)) = mnist.load_data()\n",
        "\n",
        "# add a channel (i.e., grayscale) dimension to the digits\n",
        "trainData = trainData.reshape((trainData.shape[0], 28, 28, 1))\n",
        "testData = testData.reshape((testData.shape[0], 28, 28, 1))\n",
        "\n",
        "# scale data to the range of [0, 1]\n",
        "trainData = trainData.astype(\"float32\") / 255.0\n",
        "testData = testData.astype(\"float32\") / 255.0\n",
        "\n",
        "# convert the labels from integers to vectors\n",
        "le = LabelBinarizer()\n",
        "trainLabels = le.fit_transform(trainLabels)\n",
        "testLabels = le.transform(testLabels)\n",
        "\n",
        "# initialize the optimizer and model\n",
        "print(\"[INFO] compiling model...\")\n",
        "opt = Adam(lr=INIT_LR)\n",
        "model = Sudokunet.SudokuNet.build(width=28, height=28, depth=1, classes=10)\n",
        "model.compile(loss=\"categorical_crossentropy\", optimizer=opt,\n",
        "\tmetrics=[\"accuracy\"])\n",
        "\n",
        "# train the network\n",
        "print(\"[INFO] training network...\")\n",
        "H = model.fit(\n",
        "\ttrainData, trainLabels,\n",
        "\tvalidation_data=(testData, testLabels),\n",
        "\tbatch_size=BS,\n",
        "\tepochs=EPOCHS,\n",
        "\tverbose=1)\n",
        "\n",
        "# evaluate the network\n",
        "print(\"[INFO] evaluating network...\")\n",
        "predictions = model.predict(testData)\n",
        "print(classification_report(\n",
        "\ttestLabels.argmax(axis=1),\n",
        "\tpredictions.argmax(axis=1),\n",
        "\ttarget_names=[str(x) for x in le.classes_]))\n",
        "\n",
        "# serialize the model to disk\n",
        "print(\"[INFO] serializing digit model...\")\n",
        "model.save(\"/content/Sudoku_OCR/pyimagesearch/models/chk.h5\", save_format=\"h5\")"
      ],
      "metadata": {
        "colab": {
          "base_uri": "https://localhost:8080/",
          "height": 1000
        },
        "id": "nNtdzlA0FaUS",
        "outputId": "99121b23-7d5c-4bf7-c5ac-5abb1bec0386"
      },
      "execution_count": 15,
      "outputs": [
        {
          "output_type": "stream",
          "name": "stdout",
          "text": [
            "[INFO] accessing MNIST...\n"
          ]
        },
        {
          "output_type": "stream",
          "name": "stderr",
          "text": [
            "WARNING:absl:`lr` is deprecated in Keras optimizer, please use `learning_rate` or use the legacy optimizer, e.g.,tf.keras.optimizers.legacy.Adam.\n"
          ]
        },
        {
          "output_type": "stream",
          "name": "stdout",
          "text": [
            "[INFO] compiling model...\n",
            "[INFO] training network...\n",
            "Epoch 1/10\n",
            "469/469 [==============================] - 77s 160ms/step - loss: 0.7478 - accuracy: 0.7507 - val_loss: 0.1250 - val_accuracy: 0.9641\n",
            "Epoch 2/10\n",
            "469/469 [==============================] - 76s 161ms/step - loss: 0.2898 - accuracy: 0.9146 - val_loss: 0.0630 - val_accuracy: 0.9814\n",
            "Epoch 3/10\n",
            "469/469 [==============================] - 74s 158ms/step - loss: 0.2209 - accuracy: 0.9348 - val_loss: 0.0558 - val_accuracy: 0.9831\n",
            "Epoch 4/10\n",
            "469/469 [==============================] - 75s 160ms/step - loss: 0.1867 - accuracy: 0.9451 - val_loss: 0.0465 - val_accuracy: 0.9869\n",
            "Epoch 5/10\n",
            "469/469 [==============================] - 72s 154ms/step - loss: 0.1616 - accuracy: 0.9532 - val_loss: 0.0471 - val_accuracy: 0.9870\n",
            "Epoch 6/10\n",
            "469/469 [==============================] - 75s 160ms/step - loss: 0.1516 - accuracy: 0.9567 - val_loss: 0.0413 - val_accuracy: 0.9878\n",
            "Epoch 7/10\n",
            "469/469 [==============================] - 72s 154ms/step - loss: 0.1418 - accuracy: 0.9591 - val_loss: 0.0360 - val_accuracy: 0.9896\n",
            "Epoch 8/10\n",
            "469/469 [==============================] - 74s 159ms/step - loss: 0.1312 - accuracy: 0.9621 - val_loss: 0.0358 - val_accuracy: 0.9893\n",
            "Epoch 9/10\n",
            "469/469 [==============================] - 76s 162ms/step - loss: 0.1235 - accuracy: 0.9638 - val_loss: 0.0344 - val_accuracy: 0.9905\n",
            "Epoch 10/10\n",
            "469/469 [==============================] - 72s 154ms/step - loss: 0.1201 - accuracy: 0.9654 - val_loss: 0.0348 - val_accuracy: 0.9898\n",
            "[INFO] evaluating network...\n",
            "313/313 [==============================] - 4s 11ms/step\n",
            "              precision    recall  f1-score   support\n",
            "\n",
            "           0       0.99      1.00      1.00       980\n",
            "           1       0.99      0.99      0.99      1135\n",
            "           2       0.99      1.00      0.99      1032\n",
            "           3       0.99      0.99      0.99      1010\n",
            "           4       0.99      0.99      0.99       982\n",
            "           5       0.98      0.99      0.99       892\n",
            "           6       0.99      0.99      0.99       958\n",
            "           7       0.99      0.99      0.99      1028\n",
            "           8       0.99      0.98      0.99       974\n",
            "           9       0.99      0.98      0.98      1009\n",
            "\n",
            "    accuracy                           0.99     10000\n",
            "   macro avg       0.99      0.99      0.99     10000\n",
            "weighted avg       0.99      0.99      0.99     10000\n",
            "\n",
            "[INFO] serializing digit model...\n"
          ]
        },
        {
          "output_type": "error",
          "ename": "IsADirectoryError",
          "evalue": "ignored",
          "traceback": [
            "\u001b[0;31m---------------------------------------------------------------------------\u001b[0m",
            "\u001b[0;31mIsADirectoryError\u001b[0m                         Traceback (most recent call last)",
            "\u001b[0;32m<ipython-input-15-6a3d30f9d398>\u001b[0m in \u001b[0;36m<cell line: 63>\u001b[0;34m()\u001b[0m\n\u001b[1;32m     61\u001b[0m \u001b[0;31m# serialize the model to disk\u001b[0m\u001b[0;34m\u001b[0m\u001b[0;34m\u001b[0m\u001b[0m\n\u001b[1;32m     62\u001b[0m \u001b[0mprint\u001b[0m\u001b[0;34m(\u001b[0m\u001b[0;34m\"[INFO] serializing digit model...\"\u001b[0m\u001b[0;34m)\u001b[0m\u001b[0;34m\u001b[0m\u001b[0;34m\u001b[0m\u001b[0m\n\u001b[0;32m---> 63\u001b[0;31m \u001b[0mmodel\u001b[0m\u001b[0;34m.\u001b[0m\u001b[0msave\u001b[0m\u001b[0;34m(\u001b[0m\u001b[0;34m\"/content/Model\"\u001b[0m\u001b[0;34m,\u001b[0m \u001b[0msave_format\u001b[0m\u001b[0;34m=\u001b[0m\u001b[0;34m\"h5\"\u001b[0m\u001b[0;34m)\u001b[0m\u001b[0;34m\u001b[0m\u001b[0;34m\u001b[0m\u001b[0m\n\u001b[0m",
            "\u001b[0;32m/usr/local/lib/python3.10/dist-packages/keras/utils/traceback_utils.py\u001b[0m in \u001b[0;36merror_handler\u001b[0;34m(*args, **kwargs)\u001b[0m\n\u001b[1;32m     68\u001b[0m             \u001b[0;31m# To get the full stack trace, call:\u001b[0m\u001b[0;34m\u001b[0m\u001b[0;34m\u001b[0m\u001b[0m\n\u001b[1;32m     69\u001b[0m             \u001b[0;31m# `tf.debugging.disable_traceback_filtering()`\u001b[0m\u001b[0;34m\u001b[0m\u001b[0;34m\u001b[0m\u001b[0m\n\u001b[0;32m---> 70\u001b[0;31m             \u001b[0;32mraise\u001b[0m \u001b[0me\u001b[0m\u001b[0;34m.\u001b[0m\u001b[0mwith_traceback\u001b[0m\u001b[0;34m(\u001b[0m\u001b[0mfiltered_tb\u001b[0m\u001b[0;34m)\u001b[0m \u001b[0;32mfrom\u001b[0m \u001b[0;32mNone\u001b[0m\u001b[0;34m\u001b[0m\u001b[0;34m\u001b[0m\u001b[0m\n\u001b[0m\u001b[1;32m     71\u001b[0m         \u001b[0;32mfinally\u001b[0m\u001b[0;34m:\u001b[0m\u001b[0;34m\u001b[0m\u001b[0;34m\u001b[0m\u001b[0m\n\u001b[1;32m     72\u001b[0m             \u001b[0;32mdel\u001b[0m \u001b[0mfiltered_tb\u001b[0m\u001b[0;34m\u001b[0m\u001b[0;34m\u001b[0m\u001b[0m\n",
            "\u001b[0;32m/usr/local/lib/python3.10/dist-packages/h5py/_hl/files.py\u001b[0m in \u001b[0;36m__init__\u001b[0;34m(self, name, mode, driver, libver, userblock_size, swmr, rdcc_nslots, rdcc_nbytes, rdcc_w0, track_order, fs_strategy, fs_persist, fs_threshold, fs_page_size, page_buf_size, min_meta_keep, min_raw_keep, locking, alignment_threshold, alignment_interval, meta_block_size, **kwds)\u001b[0m\n\u001b[1;32m    565\u001b[0m                                  \u001b[0mfs_persist\u001b[0m\u001b[0;34m=\u001b[0m\u001b[0mfs_persist\u001b[0m\u001b[0;34m,\u001b[0m \u001b[0mfs_threshold\u001b[0m\u001b[0;34m=\u001b[0m\u001b[0mfs_threshold\u001b[0m\u001b[0;34m,\u001b[0m\u001b[0;34m\u001b[0m\u001b[0;34m\u001b[0m\u001b[0m\n\u001b[1;32m    566\u001b[0m                                  fs_page_size=fs_page_size)\n\u001b[0;32m--> 567\u001b[0;31m                 \u001b[0mfid\u001b[0m \u001b[0;34m=\u001b[0m \u001b[0mmake_fid\u001b[0m\u001b[0;34m(\u001b[0m\u001b[0mname\u001b[0m\u001b[0;34m,\u001b[0m \u001b[0mmode\u001b[0m\u001b[0;34m,\u001b[0m \u001b[0muserblock_size\u001b[0m\u001b[0;34m,\u001b[0m \u001b[0mfapl\u001b[0m\u001b[0;34m,\u001b[0m \u001b[0mfcpl\u001b[0m\u001b[0;34m,\u001b[0m \u001b[0mswmr\u001b[0m\u001b[0;34m=\u001b[0m\u001b[0mswmr\u001b[0m\u001b[0;34m)\u001b[0m\u001b[0;34m\u001b[0m\u001b[0;34m\u001b[0m\u001b[0m\n\u001b[0m\u001b[1;32m    568\u001b[0m \u001b[0;34m\u001b[0m\u001b[0m\n\u001b[1;32m    569\u001b[0m             \u001b[0;32mif\u001b[0m \u001b[0misinstance\u001b[0m\u001b[0;34m(\u001b[0m\u001b[0mlibver\u001b[0m\u001b[0;34m,\u001b[0m \u001b[0mtuple\u001b[0m\u001b[0;34m)\u001b[0m\u001b[0;34m:\u001b[0m\u001b[0;34m\u001b[0m\u001b[0;34m\u001b[0m\u001b[0m\n",
            "\u001b[0;32m/usr/local/lib/python3.10/dist-packages/h5py/_hl/files.py\u001b[0m in \u001b[0;36mmake_fid\u001b[0;34m(name, mode, userblock_size, fapl, fcpl, swmr)\u001b[0m\n\u001b[1;32m    235\u001b[0m         \u001b[0mfid\u001b[0m \u001b[0;34m=\u001b[0m \u001b[0mh5f\u001b[0m\u001b[0;34m.\u001b[0m\u001b[0mcreate\u001b[0m\u001b[0;34m(\u001b[0m\u001b[0mname\u001b[0m\u001b[0;34m,\u001b[0m \u001b[0mh5f\u001b[0m\u001b[0;34m.\u001b[0m\u001b[0mACC_EXCL\u001b[0m\u001b[0;34m,\u001b[0m \u001b[0mfapl\u001b[0m\u001b[0;34m=\u001b[0m\u001b[0mfapl\u001b[0m\u001b[0;34m,\u001b[0m \u001b[0mfcpl\u001b[0m\u001b[0;34m=\u001b[0m\u001b[0mfcpl\u001b[0m\u001b[0;34m)\u001b[0m\u001b[0;34m\u001b[0m\u001b[0;34m\u001b[0m\u001b[0m\n\u001b[1;32m    236\u001b[0m     \u001b[0;32melif\u001b[0m \u001b[0mmode\u001b[0m \u001b[0;34m==\u001b[0m \u001b[0;34m'w'\u001b[0m\u001b[0;34m:\u001b[0m\u001b[0;34m\u001b[0m\u001b[0;34m\u001b[0m\u001b[0m\n\u001b[0;32m--> 237\u001b[0;31m         \u001b[0mfid\u001b[0m \u001b[0;34m=\u001b[0m \u001b[0mh5f\u001b[0m\u001b[0;34m.\u001b[0m\u001b[0mcreate\u001b[0m\u001b[0;34m(\u001b[0m\u001b[0mname\u001b[0m\u001b[0;34m,\u001b[0m \u001b[0mh5f\u001b[0m\u001b[0;34m.\u001b[0m\u001b[0mACC_TRUNC\u001b[0m\u001b[0;34m,\u001b[0m \u001b[0mfapl\u001b[0m\u001b[0;34m=\u001b[0m\u001b[0mfapl\u001b[0m\u001b[0;34m,\u001b[0m \u001b[0mfcpl\u001b[0m\u001b[0;34m=\u001b[0m\u001b[0mfcpl\u001b[0m\u001b[0;34m)\u001b[0m\u001b[0;34m\u001b[0m\u001b[0;34m\u001b[0m\u001b[0m\n\u001b[0m\u001b[1;32m    238\u001b[0m     \u001b[0;32melif\u001b[0m \u001b[0mmode\u001b[0m \u001b[0;34m==\u001b[0m \u001b[0;34m'a'\u001b[0m\u001b[0;34m:\u001b[0m\u001b[0;34m\u001b[0m\u001b[0;34m\u001b[0m\u001b[0m\n\u001b[1;32m    239\u001b[0m         \u001b[0;31m# Open in append mode (read/write).\u001b[0m\u001b[0;34m\u001b[0m\u001b[0;34m\u001b[0m\u001b[0m\n",
            "\u001b[0;32mh5py/_objects.pyx\u001b[0m in \u001b[0;36mh5py._objects.with_phil.wrapper\u001b[0;34m()\u001b[0m\n",
            "\u001b[0;32mh5py/_objects.pyx\u001b[0m in \u001b[0;36mh5py._objects.with_phil.wrapper\u001b[0;34m()\u001b[0m\n",
            "\u001b[0;32mh5py/h5f.pyx\u001b[0m in \u001b[0;36mh5py.h5f.create\u001b[0;34m()\u001b[0m\n",
            "\u001b[0;31mIsADirectoryError\u001b[0m: [Errno 21] Unable to create file (unable to open file: name = '/content/Model', errno = 21, error message = 'Is a directory', flags = 13, o_flags = 242)"
          ]
        }
      ]
    },
    {
      "cell_type": "markdown",
      "source": [
        "# Solve"
      ],
      "metadata": {
        "id": "fC045GIsLaom"
      }
    },
    {
      "cell_type": "code",
      "source": [
        "# import the necessary packages\n",
        "# from Sudoku.pyimagesearch.sudoku import extract_digit\n",
        "from Sudoku_OCR.pyimagesearch.sudoku import puzzle\n",
        "from tensorflow.keras.preprocessing.image import img_to_array\n",
        "from tensorflow.keras.models import load_model\n",
        "from sudoku import Sudoku\n",
        "import numpy as np\n",
        "import argparse\n",
        "import imutils\n",
        "import cv2\n",
        "from google.colab.patches import cv2_imshow\n",
        "\n",
        "# construct the argument parser and parse the arguments\n",
        "# ap = argparse.ArgumentParser()\n",
        "# ap.add_argument(\"-m\", \"--model\", required=True,\n",
        "# \thelp=\"path to trained digit classifier\")\n",
        "# ap.add_argument(\"-i\", \"--image\", required=True,\n",
        "# \thelp=\"path to input Sudoku puzzle image\")\n",
        "# ap.add_argument(\"-d\", \"--debug\", type=int, default=-1,\n",
        "# \thelp=\"whether or not we are visualizing each step of the pipeline\")\n",
        "# args = vars(ap.parse_args())\n",
        "\n",
        "# load the digit classifier from disk\n",
        "\n",
        "model_path = \"/content/Model/chk.h5\"\n",
        "image_path = \"/content/Sudoku_OCR/sudoku_puzzle.png\"\n",
        "debug = 0\n",
        "print(\"[INFO] loading digit classifier...\")\n",
        "model = load_model(model_path)\n",
        "\n",
        "# load the input image from disk and resize it\n",
        "print(\"[INFO] processing image...\")\n",
        "image = cv2.imread(image_path)\n",
        "image = imutils.resize(image, width=600)\n",
        "\n",
        "# find the puzzle in the image and then\n",
        "(puzzleImage, warped) = puzzle.find_puzzle(image, debug=debug > 0)\n",
        "\n",
        "# initialize our 9x9 Sudoku board\n",
        "board = np.zeros((9, 9), dtype=\"int\")\n",
        "\n",
        "# a Sudoku puzzle is a 9x9 grid (81 individual cells), so we can\n",
        "# infer the location of each cell by dividing the warped image\n",
        "# into a 9x9 grid\n",
        "stepX = warped.shape[1] // 9\n",
        "stepY = warped.shape[0] // 9\n",
        "\n",
        "# initialize a list to store the (x, y)-coordinates of each cell\n",
        "# location\n",
        "cellLocs = []\n",
        "\n",
        "# loop over the grid locations\n",
        "for y in range(0, 9):\n",
        "\t# initialize the current list of cell locations\n",
        "\trow = []\n",
        "\n",
        "\tfor x in range(0, 9):\n",
        "\t\t# compute the starting and ending (x, y)-coordinates of the\n",
        "\t\t# current cell\n",
        "\t\tstartX = x * stepX\n",
        "\t\tstartY = y * stepY\n",
        "\t\tendX = (x + 1) * stepX\n",
        "\t\tendY = (y + 1) * stepY\n",
        "\n",
        "\t\t# add the (x, y)-coordinates to our cell locations list\n",
        "\t\trow.append((startX, startY, endX, endY))\n",
        "\n",
        "\t\t# crop the cell from the warped transform image and then\n",
        "\t\t# extract the digit from the cell\n",
        "\t\tcell = warped[startY:endY, startX:endX]\n",
        "\t\tdigit = puzzle.extract_digit(cell, debug=debug > 0)\n",
        "\n",
        "\t\t# verify that the digit is not empty\n",
        "\t\tif digit is not None:\n",
        "\t\t\t# resize the cell to 28x28 pixels and then prepare the\n",
        "\t\t\t# cell for classification\n",
        "\t\t\troi = cv2.resize(digit, (28, 28))\n",
        "\t\t\troi = roi.astype(\"float\") / 255.0\n",
        "\t\t\troi = img_to_array(roi)\n",
        "\t\t\troi = np.expand_dims(roi, axis=0)\n",
        "\n",
        "\t\t\t# classify the digit and update the Sudoku board with the\n",
        "\t\t\t# prediction\n",
        "\t\t\tpred = model.predict(roi).argmax(axis=1)[0]\n",
        "\t\t\tboard[y, x] = pred\n",
        "\n",
        "\t# add the row to our cell locations\n",
        "\tcellLocs.append(row)\n",
        "\n",
        "# construct a Sudoku puzzle from the board\n",
        "print(\"[INFO] OCR'd Sudoku board:\")\n",
        "puzzle = Sudoku(3, 3, board=board.tolist())\n",
        "puzzle.show()\n",
        "\n",
        "# solve the Sudoku puzzle\n",
        "print(\"[INFO] solving Sudoku puzzle...\")\n",
        "solution = puzzle.solve()\n",
        "solution.show_full()\n",
        "\n",
        "# loop over the cell locations and board\n",
        "for (cellRow, boardRow) in zip(cellLocs, solution.board):\n",
        "\t# loop over individual cell in the row\n",
        "\tfor (box, digit) in zip(cellRow, boardRow):\n",
        "\t\t# unpack the cell coordinates\n",
        "\t\tstartX, startY, endX, endY = box\n",
        "\n",
        "\t\t# compute the coordinates of where the digit will be drawn\n",
        "\t\t# on the output puzzle image\n",
        "\t\ttextX = int((endX - startX) * 0.33)\n",
        "\t\ttextY = int((endY - startY) * -0.2)\n",
        "\t\ttextX += startX\n",
        "\t\ttextY += endY\n",
        "\n",
        "\t\t# draw the result digit on the Sudoku puzzle image\n",
        "\t\tcv2.putText(puzzleImage, str(digit), (textX, textY),\n",
        "\t\t\tcv2.FONT_HERSHEY_SIMPLEX, 0.9, (0, 255, 255), 2)\n",
        "\n",
        "# show the output image\n",
        "cv2_imshow(puzzleImage)"
      ],
      "metadata": {
        "colab": {
          "base_uri": "https://localhost:8080/",
          "height": 870
        },
        "id": "pma9hCfeLZ_X",
        "outputId": "63aa949d-94d9-4700-daa7-84bf71cab549"
      },
      "execution_count": 37,
      "outputs": [
        {
          "output_type": "stream",
          "name": "stdout",
          "text": [
            "[INFO] loading digit classifier...\n",
            "[INFO] processing image...\n",
            "[INFO] OCR'd Sudoku board:\n",
            "+-------+-------+-------+\n",
            "|       |       |       |\n",
            "|       |       |       |\n",
            "|       |       |       |\n",
            "+-------+-------+-------+\n",
            "|       |       |       |\n",
            "|       |       |       |\n",
            "|       |       |       |\n",
            "+-------+-------+-------+\n",
            "|       |       |       |\n",
            "|       |       |       |\n",
            "|       |       |       |\n",
            "+-------+-------+-------+\n",
            "\n",
            "[INFO] solving Sudoku puzzle...\n",
            "\n",
            "---------------------------\n",
            "9x9 (3x3) SUDOKU PUZZLE\n",
            "Difficulty: SOLVED\n",
            "---------------------------\n",
            "+-------+-------+-------+\n",
            "| 1 2 3 | 4 5 6 | 7 8 9 |\n",
            "| 4 5 6 | 7 8 9 | 1 2 3 |\n",
            "| 7 8 9 | 1 2 3 | 4 5 6 |\n",
            "+-------+-------+-------+\n",
            "| 2 3 1 | 6 7 4 | 8 9 5 |\n",
            "| 8 7 5 | 9 1 2 | 3 6 4 |\n",
            "| 6 9 4 | 5 3 8 | 2 1 7 |\n",
            "+-------+-------+-------+\n",
            "| 3 1 7 | 2 6 5 | 9 4 8 |\n",
            "| 5 4 2 | 8 9 7 | 6 3 1 |\n",
            "| 9 6 8 | 3 4 1 | 5 7 2 |\n",
            "+-------+-------+-------+\n",
            "\n",
            "        \n"
          ]
        },
        {
          "output_type": "display_data",
          "data": {
            "text/plain": [
              "<PIL.Image.Image image mode=RGB size=272x194 at 0x7F8F64F83C40>"
            ],
            "image/png": "[encoded data removed]"
          },
          "metadata": {}
        }
      ]
    },
    {
      "cell_type": "code",
      "source": [],
      "metadata": {
        "id": "lOAI08hOMC1o"
      },
      "execution_count": null,
      "outputs": []
    }
  ]
}