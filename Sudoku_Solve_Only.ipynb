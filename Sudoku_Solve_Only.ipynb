{
  "nbformat": 4,
  "nbformat_minor": 0,
  "metadata": {
    "colab": {
      "provenance": [],
      "authorship_tag": "ABX9TyP3OVTLpQTypj54L5Ywnrwf",
      "include_colab_link": true
    },
    "kernelspec": {
      "name": "python3",
      "display_name": "Python 3"
    },
    "language_info": {
      "name": "python"
    }
  },
  "cells": [
    {
      "cell_type": "markdown",
      "metadata": {
        "id": "view-in-github",
        "colab_type": "text"
      },
      "source": [
        "<a href=\"https://colab.research.google.com/github/CakeNuthep/Sudoku_OCR/blob/main/Sudoku_Solve_Only.ipynb\" target=\"_parent\"><img src=\"https://colab.research.google.com/assets/colab-badge.svg\" alt=\"Open In Colab\"/></a>"
      ]
    },
    {
      "cell_type": "markdown",
      "source": [
        "# Solve"
      ],
      "metadata": {
        "id": "fC045GIsLaom"
      }
    },
    {
      "cell_type": "markdown",
      "source": [
        "**Upload Image**"
      ],
      "metadata": {
        "id": "28p_mKVznWyl"
      }
    },
    {
      "cell_type": "code",
      "source": [
        "!git clone https://github.com/CakeNuthep/Sudoku_OCR.git\n",
        "!cd /content/Sudoku/\n",
        "!pip install py-sudoku"
      ],
      "metadata": {
        "id": "C17wQ4t2YSSn",
        "outputId": "7432bbb6-c3c2-4b55-b6ad-35441ac2dd80",
        "colab": {
          "base_uri": "https://localhost:8080/"
        }
      },
      "execution_count": 1,
      "outputs": [
        {
          "output_type": "stream",
          "name": "stdout",
          "text": [
            "Cloning into 'Sudoku_OCR'...\n",
            "remote: Enumerating objects: 47, done.\u001b[K\n",
            "remote: Counting objects: 100% (47/47), done.\u001b[K\n",
            "remote: Compressing objects: 100% (43/43), done.\u001b[K\n",
            "remote: Total 47 (delta 18), reused 18 (delta 2), pack-reused 0\u001b[K\n",
            "Unpacking objects: 100% (47/47), 1.50 MiB | 4.79 MiB/s, done.\n",
            "/bin/bash: line 0: cd: /content/Sudoku/: No such file or directory\n",
            "Collecting py-sudoku\n",
            "  Downloading py_sudoku-1.0.3-py3-none-any.whl (7.1 kB)\n",
            "Installing collected packages: py-sudoku\n",
            "Successfully installed py-sudoku-1.0.3\n"
          ]
        }
      ]
    },
    {
      "cell_type": "markdown",
      "source": [
        "**Detect**"
      ],
      "metadata": {
        "id": "Hpw9N5bUnceW"
      }
    },
    {
      "cell_type": "code",
      "source": [
        "from sudoku import Sudoku"
      ],
      "metadata": {
        "id": "mxCCD47BwogW"
      },
      "execution_count": 7,
      "outputs": []
    },
    {
      "cell_type": "markdown",
      "source": [
        "**Solve**"
      ],
      "metadata": {
        "id": "6-c3k7Glnhe6"
      }
    },
    {
      "cell_type": "code",
      "source": [
        "b = [\n",
        "      [ 5, 3, 0,   0, 7, 0,   0, 0, 0 ],\n",
        "      [ 6, 0, 0,   1, 9, 5,   0, 0, 0 ],\n",
        "      [ 0, 9, 8,   0, 0, 0,   0, 6, 0 ],\n",
        "\n",
        "      [ 8, 0, 0,   0, 6, 0,   0, 0, 3 ],\n",
        "      [ 4, 0, 0,   8, 0, 3,   0, 0, 1 ],\n",
        "      [ 7, 0, 0,   0, 2, 0,   0, 0, 6 ],\n",
        "\n",
        "      [ 0, 6, 0,   0, 0, 0,   2, 8, 0 ],\n",
        "      [ 0, 0, 0,   4, 1, 9,   0, 0, 5 ],\n",
        "      [ 0, 0, 0,   0, 8, 0,   0, 7, 9 ],\n",
        "    ]"
      ],
      "metadata": {
        "id": "lOAI08hOMC1o"
      },
      "execution_count": 4,
      "outputs": []
    },
    {
      "cell_type": "code",
      "source": [
        "# construct a Sudoku puzzle from the board\n",
        "print(\"[INFO] OCR'd Sudoku board:\")\n",
        "puzzle = Sudoku(3, 3, board=b)\n",
        "puzzle.show()\n",
        "\n",
        "# solve the Sudoku puzzle\n",
        "print(\"[INFO] solving Sudoku puzzle...\")\n",
        "solution = puzzle.solve()\n",
        "solution.show_full()"
      ],
      "metadata": {
        "colab": {
          "base_uri": "https://localhost:8080/"
        },
        "id": "Cotw3tH2nT_v",
        "outputId": "c41bb690-0b46-4b9a-ff7a-b5651f476adf"
      },
      "execution_count": 6,
      "outputs": [
        {
          "output_type": "stream",
          "name": "stdout",
          "text": [
            "[INFO] OCR'd Sudoku board:\n",
            "+-------+-------+-------+\n",
            "| 5 3   |   7   |       |\n",
            "| 6     | 1 9 5 |       |\n",
            "|   9 8 |       |   6   |\n",
            "+-------+-------+-------+\n",
            "| 8     |   6   |     3 |\n",
            "| 4     | 8   3 |     1 |\n",
            "| 7     |   2   |     6 |\n",
            "+-------+-------+-------+\n",
            "|   6   |       | 2 8   |\n",
            "|       | 4 1 9 |     5 |\n",
            "|       |   8   |   7 9 |\n",
            "+-------+-------+-------+\n",
            "\n",
            "[INFO] solving Sudoku puzzle...\n",
            "\n",
            "---------------------------\n",
            "9x9 (3x3) SUDOKU PUZZLE\n",
            "Difficulty: SOLVED\n",
            "---------------------------\n",
            "+-------+-------+-------+\n",
            "| 5 3 4 | 6 7 8 | 9 1 2 |\n",
            "| 6 7 2 | 1 9 5 | 3 4 8 |\n",
            "| 1 9 8 | 3 4 2 | 5 6 7 |\n",
            "+-------+-------+-------+\n",
            "| 8 5 9 | 7 6 1 | 4 2 3 |\n",
            "| 4 2 6 | 8 5 3 | 7 9 1 |\n",
            "| 7 1 3 | 9 2 4 | 8 5 6 |\n",
            "+-------+-------+-------+\n",
            "| 9 6 1 | 5 3 7 | 2 8 4 |\n",
            "| 2 8 7 | 4 1 9 | 6 3 5 |\n",
            "| 3 4 5 | 2 8 6 | 1 7 9 |\n",
            "+-------+-------+-------+\n",
            "\n",
            "        \n"
          ]
        }
      ]
    }
  ]
}